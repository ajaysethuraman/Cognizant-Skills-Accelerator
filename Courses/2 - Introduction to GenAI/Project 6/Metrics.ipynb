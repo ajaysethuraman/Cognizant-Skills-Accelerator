{
  "nbformat": 4,
  "nbformat_minor": 0,
  "metadata": {
    "colab": {
      "provenance": []
    },
    "kernelspec": {
      "name": "python3",
      "display_name": "Python 3"
    },
    "language_info": {
      "name": "python"
    }
  },
  "cells": [
    {
      "cell_type": "code",
      "execution_count": null,
      "metadata": {
        "id": "oPn0OBSCk3Ux"
      },
      "outputs": [],
      "source": [
        "import matplotlib.pyplot as plt\n",
        "import pickle\n",
        "\n",
        "# Load the training history\n",
        "with open('training_history.pkl', 'rb') as f:\n",
        "    history = pickle.load(f)\n",
        "\n",
        "# Plot training and validation loss\n",
        "plt.figure(figsize=(8, 5))\n",
        "plt.plot(history['loss'], label='Training Loss')\n",
        "plt.plot(history['val_loss'], label='Validation Loss')\n",
        "plt.xlabel('Epochs')\n",
        "plt.ylabel('Loss')\n",
        "plt.title('Training and Validation Loss Over Epochs')\n",
        "plt.legend()\n",
        "plt.show()"
      ]
    },
    {
      "cell_type": "code",
      "source": [
        "# Print the final loss values\n",
        "final_train_loss = history['loss'][-1]\n",
        "final_val_loss = history['val_loss'][-1]\n",
        "\n",
        "print(f\"Final Training Loss: {final_train_loss:.4f}\")\n",
        "print(f\"Final Validation Loss: {final_val_loss:.4f}\")"
      ],
      "metadata": {
        "id": "hNoq3RiTk67x"
      },
      "execution_count": null,
      "outputs": []
    }
  ]
}