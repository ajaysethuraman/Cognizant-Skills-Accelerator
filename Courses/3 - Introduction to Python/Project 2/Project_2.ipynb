{
  "nbformat": 4,
  "nbformat_minor": 0,
  "metadata": {
    "colab": {
      "provenance": []
    },
    "kernelspec": {
      "name": "python3",
      "display_name": "Python 3"
    },
    "language_info": {
      "name": "python"
    }
  },
  "cells": [
    {
      "cell_type": "markdown",
      "source": [
        "# **Number Guessing Game**\n",
        "## By Ajay Sethuraman\n",
        "## **Introduction**\n",
        "This project is a fun number-guessing game where the user tries to guess a randomly generated number between 1 and 100. The game provides feedback on each guess and keeps track of attempts. There is also a challenge: the user has a maximum of 10 attempts to win."
      ],
      "metadata": {
        "id": "jK-HWu4tufrX"
      }
    },
    {
      "cell_type": "code",
      "source": [
        "import random\n",
        "\n",
        "# Generate a random number between 1 and 100\n",
        "number_to_guess = random.randint(1, 100)"
      ],
      "metadata": {
        "id": "CX5c2KtjuoTG"
      },
      "execution_count": 1,
      "outputs": []
    },
    {
      "cell_type": "code",
      "source": [
        "# Initializing variables\n",
        "attempts = 0\n",
        "max_attempts = 10\n",
        "\n",
        "print(\"Welcome to the Number Guessing Game!\")\n",
        "print(\"Try to guess the number between 1 and 100. You have 10 attempts!\")\n",
        "\n",
        "# Loop for guessing\n",
        "while attempts < max_attempts:\n",
        "    guess = int(input(\"Enter your guess: \"))  # Taking user input\n",
        "    attempts += 1  # Increment attempts\n",
        "\n",
        "    # Checking the guess\n",
        "    if guess < number_to_guess:\n",
        "        print(\"Too low! Try again.\")\n",
        "    elif guess > number_to_guess:\n",
        "        print(\"Too high! Try again.\")\n",
        "    else:\n",
        "        print(f\"Congratulations! You guessed it in {attempts} attempts!\")\n",
        "        break  # Exit the loop if guessed correctly\n",
        "\n",
        "# Game over message if max attempts reached\n",
        "if attempts == max_attempts and guess != number_to_guess:\n",
        "    print(f\"Game over! The correct number was {number_to_guess}. Better luck next time!\")"
      ],
      "metadata": {
        "colab": {
          "base_uri": "https://localhost:8080/"
        },
        "id": "GRJyasBtuv6V",
        "outputId": "eb108960-7e0a-4089-b764-0395042316af"
      },
      "execution_count": 2,
      "outputs": [
        {
          "output_type": "stream",
          "name": "stdout",
          "text": [
            "Welcome to the Number Guessing Game!\n",
            "Try to guess the number between 1 and 100. You have 10 attempts!\n",
            "Enter your guess: 56\n",
            "Too low! Try again.\n",
            "Enter your guess: 45\n",
            "Too low! Try again.\n",
            "Enter your guess: 89\n",
            "Too high! Try again.\n",
            "Enter your guess: 70\n",
            "Too low! Try again.\n",
            "Enter your guess: 80\n",
            "Too high! Try again.\n",
            "Enter your guess: 77\n",
            "Congratulations! You guessed it in 6 attempts!\n"
          ]
        }
      ]
    },
    {
      "cell_type": "markdown",
      "source": [
        "This project is an engaging and interactive way to practice loops, conditionals, and user input handling in Python."
      ],
      "metadata": {
        "id": "8VF5ZZAovIBG"
      }
    },
    {
      "cell_type": "code",
      "source": [],
      "metadata": {
        "id": "ohAcUGdDvKTG"
      },
      "execution_count": null,
      "outputs": []
    }
  ]
}