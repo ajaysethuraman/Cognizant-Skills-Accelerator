{
  "nbformat": 4,
  "nbformat_minor": 0,
  "metadata": {
    "colab": {
      "provenance": []
    },
    "kernelspec": {
      "name": "python3",
      "display_name": "Python 3"
    },
    "language_info": {
      "name": "python"
    }
  },
  "cells": [
    {
      "cell_type": "markdown",
      "source": [
        "# **Eligible Elector**\n",
        "## By Ajay Sethuraman\n",
        "## **Introduction**\n",
        "This project aims to build a simple Python program to check if a user is eligible to vote based on their age. The program will take the user’s age as input and then use conditional statements to determine whether they are old enough to vote. If they are not, the program will also tell them how many years are left until they are eligible. Additionally, we'll add input validation to handle potential errors, such as non-numeric or negative age inputs."
      ],
      "metadata": {
        "id": "fcMpa-QGrfaw"
      }
    },
    {
      "cell_type": "code",
      "source": [
        "# Asking the user to enter their age\n",
        "age = int(input(\"How old are you? \"))  # Convert input to integer"
      ],
      "metadata": {
        "colab": {
          "base_uri": "https://localhost:8080/"
        },
        "id": "0kfVT7YUroFr",
        "outputId": "5bc766fc-1062-4f08-c3ef-180dd20718eb"
      },
      "execution_count": 1,
      "outputs": [
        {
          "name": "stdout",
          "output_type": "stream",
          "text": [
            "How old are you? 25\n"
          ]
        }
      ]
    },
    {
      "cell_type": "markdown",
      "source": [
        "We use the input() function to take the user's age as input, and then we convert it into an integer using int(). This ensures that we can perform numerical operations on the input, such as checking if it's greater than or equal to 18."
      ],
      "metadata": {
        "id": "NuaW4idCrs0Q"
      }
    },
    {
      "cell_type": "code",
      "source": [
        "# Conditional statement to check eligibility\n",
        "if age >= 18:\n",
        "    print(\"Congratulations! You are eligible to vote. Go make a difference!\")\n",
        "else:\n",
        "    years_left = 18 - age  # Calculate how many years they need to wait\n",
        "    print(f\"Oops! You’re not eligible yet. But hey, only {years_left} more years to go!\")"
      ],
      "metadata": {
        "colab": {
          "base_uri": "https://localhost:8080/"
        },
        "id": "43wneSWSrvmN",
        "outputId": "522c6ad2-b1ba-45ac-9476-22a871c6239f"
      },
      "execution_count": 2,
      "outputs": [
        {
          "output_type": "stream",
          "name": "stdout",
          "text": [
            "Congratulations! You are eligible to vote. Go make a difference!\n"
          ]
        }
      ]
    },
    {
      "cell_type": "markdown",
      "source": [
        "* The program uses an if statement to check if the user’s age is 18 or greater.\n",
        "    * If the user is eligible to vote, the program displays a congratulatory message.\n",
        "    * If the user is not eligible, it calculates how many more years they need to wait (by subtracting their age from 18) and informs them of how many years are left."
      ],
      "metadata": {
        "id": "W_UTH-vqr1EH"
      }
    },
    {
      "cell_type": "code",
      "source": [
        "# Function to check if input is valid\n",
        "def get_valid_age():\n",
        "    while True:\n",
        "        try:\n",
        "            # Asking for age input and converting it to integer\n",
        "            age = int(input(\"How old are you? \"))\n",
        "            if age < 0:\n",
        "                print(\"Oops! Age can't be negative. Please enter a valid age.\")\n",
        "            else:\n",
        "                return age\n",
        "        except ValueError:\n",
        "            print(\"Oops! Please enter a valid number.\")\n",
        "\n",
        "# Get valid age from user\n",
        "age = get_valid_age()\n",
        "\n",
        "# Conditional statement to check eligibility\n",
        "if age >= 18:\n",
        "    print(\"Congratulations! You are eligible to vote. Go make a difference!\")\n",
        "else:\n",
        "    years_left = 18 - age  # Calculate how many years they need to wait\n",
        "    print(f\"Oops! You’re not eligible yet. But hey, only {years_left} more years to go!\")"
      ],
      "metadata": {
        "colab": {
          "base_uri": "https://localhost:8080/"
        },
        "id": "Y3sPQ12Lr635",
        "outputId": "82fba5d3-0cb8-48cb-d93b-6674333195de"
      },
      "execution_count": 4,
      "outputs": [
        {
          "output_type": "stream",
          "name": "stdout",
          "text": [
            "How old are you? 17\n",
            "Oops! You’re not eligible yet. But hey, only 1 more years to go!\n"
          ]
        }
      ]
    },
    {
      "cell_type": "markdown",
      "source": [
        "* The function get_valid_age() ensures the program keeps asking the user for input until they provide a valid, non-negative integer.\n",
        "* It uses a try-except block to catch ValueError exceptions if the user enters something other than a number.\n",
        "* It also checks if the entered age is negative, and if so, asks the user to enter a valid positive age.\n",
        "* Once a valid age is entered, the program proceeds with the eligibility check."
      ],
      "metadata": {
        "id": "u5QA7Fq9sHkX"
      }
    },
    {
      "cell_type": "markdown",
      "source": [
        "## **Conclusion**\n",
        "In this project, we built a simple Python program to check voter eligibility based on the user's age. We started by asking for the user's age and then used conditional statements to determine whether they were eligible to vote. We also added input validation to handle errors like negative or non-numeric inputs. By the end of this project, you have a fully functional program that checks voter eligibility and provides a friendly message to the user.\n",
        "\n",
        "This project demonstrates how to use basic Python concepts such as input, conditionals, and loops to create a useful and interactive program."
      ],
      "metadata": {
        "id": "QmDanALKsOCH"
      }
    }
  ]
}