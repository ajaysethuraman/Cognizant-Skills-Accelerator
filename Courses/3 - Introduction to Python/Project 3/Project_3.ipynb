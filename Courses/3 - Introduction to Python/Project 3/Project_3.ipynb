{
  "nbformat": 4,
  "nbformat_minor": 0,
  "metadata": {
    "colab": {
      "provenance": []
    },
    "kernelspec": {
      "name": "python3",
      "display_name": "Python 3"
    },
    "language_info": {
      "name": "python"
    }
  },
  "cells": [
    {
      "cell_type": "markdown",
      "source": [
        "# **Password Strength Checker**\n",
        "## by Ajay Sethuraman\n",
        "## **Introduction**\n",
        "Passwords are essential for online security, but weak passwords can make accounts vulnerable to attacks. This project aims to develop a password strength checker that evaluates passwords based on specific security criteria. The program will provide feedback to users, helping them create stronger passwords."
      ],
      "metadata": {
        "id": "Mtdx_AvNwzRW"
      }
    },
    {
      "cell_type": "code",
      "source": [
        "password = input(\"Enter a password: \")"
      ],
      "metadata": {
        "colab": {
          "base_uri": "https://localhost:8080/"
        },
        "id": "FDtISQYDw6cn",
        "outputId": "1a352308-28e5-4e1e-b08a-1f435970013b"
      },
      "execution_count": 1,
      "outputs": [
        {
          "name": "stdout",
          "output_type": "stream",
          "text": [
            "Enter a password: Cognizant123*\n"
          ]
        }
      ]
    },
    {
      "cell_type": "markdown",
      "source": [
        "The program will check the password against the following criteria:\n",
        "* At least 8 characters long\n",
        "* Contains at least one uppercase letter\n",
        "* Contains at least one lowercase letter\n",
        "* Contains at least one digit\n",
        "* Contains at least one special character (e.g., @, #, $, %, &)\n",
        "\n",
        "We will use Python string methods like .isupper(), .islower(), and .isdigit() to validate these conditions."
      ],
      "metadata": {
        "id": "JPs4Jxz_xE1y"
      }
    },
    {
      "cell_type": "code",
      "source": [
        "import string\n",
        "\n",
        "def check_password_strength(password):\n",
        "    special_characters = string.punctuation  # Includes symbols like @, #, $, etc.\n",
        "\n",
        "    # Checking password criteria\n",
        "    length_valid = len(password) >= 8\n",
        "    has_upper = any(char.isupper() for char in password)\n",
        "    has_lower = any(char.islower() for char in password)\n",
        "    has_digit = any(char.isdigit() for char in password)\n",
        "    has_special = any(char in special_characters for char in password)\n",
        "\n",
        "    # Collecting missing elements\n",
        "    missing_elements = []\n",
        "    if not length_valid:\n",
        "        missing_elements.append(\"at least 8 characters\")\n",
        "    if not has_upper:\n",
        "        missing_elements.append(\"one uppercase letter\")\n",
        "    if not has_lower:\n",
        "        missing_elements.append(\"one lowercase letter\")\n",
        "    if not has_digit:\n",
        "        missing_elements.append(\"one digit\")\n",
        "    if not has_special:\n",
        "        missing_elements.append(\"one special character\")\n",
        "\n",
        "    # Providing feedback\n",
        "    if not missing_elements:\n",
        "        print(\"Your password is strong! 💪\")\n",
        "    else:\n",
        "        print(\"Your password needs:\", \", \".join(missing_elements))\n",
        "\n",
        "# Taking input from the user\n",
        "password = input(\"Enter a password: \")\n",
        "check_password_strength(password)"
      ],
      "metadata": {
        "colab": {
          "base_uri": "https://localhost:8080/"
        },
        "id": "2TgskZXaxJHg",
        "outputId": "e796d97f-17ce-4af0-cb80-84883be808f0"
      },
      "execution_count": 2,
      "outputs": [
        {
          "output_type": "stream",
          "name": "stdout",
          "text": [
            "Enter a password: Cognizant123*\n",
            "Your password is strong! 💪\n"
          ]
        }
      ]
    },
    {
      "cell_type": "markdown",
      "source": [
        "To make the program more interactive, we can assign a strength score out of 10 based on how many criteria the password meets."
      ],
      "metadata": {
        "id": "UEDyP8qexUwW"
      }
    },
    {
      "cell_type": "code",
      "source": [
        "def password_strength_meter(password):\n",
        "    special_characters = string.punctuation\n",
        "\n",
        "    # Checking password criteria\n",
        "    criteria = [\n",
        "        len(password) >= 8,\n",
        "        any(char.isupper() for char in password),\n",
        "        any(char.islower() for char in password),\n",
        "        any(char.isdigit() for char in password),\n",
        "        any(char in special_characters for char in password)\n",
        "    ]\n",
        "\n",
        "    # Calculating score (2 points per fulfilled criterion)\n",
        "    score = sum(criteria) * 2\n",
        "\n",
        "    # Displaying strength level\n",
        "    if score == 10:\n",
        "        strength = \"Excellent 🔥\"\n",
        "    elif score >= 6:\n",
        "        strength = \"Good 👍\"\n",
        "    else:\n",
        "        strength = \"Weak ❌\"\n",
        "\n",
        "    print(f\"Password Strength: {score}/10 - {strength}\")\n",
        "\n",
        "# Taking input from the user\n",
        "password = input(\"Enter a password: \")\n",
        "password_strength_meter(password)"
      ],
      "metadata": {
        "colab": {
          "base_uri": "https://localhost:8080/"
        },
        "id": "0yZaRHc-xLLU",
        "outputId": "315d7dc0-44f0-40a5-9355-ac664090e4b8"
      },
      "execution_count": 3,
      "outputs": [
        {
          "output_type": "stream",
          "name": "stdout",
          "text": [
            "Enter a password: Cognizant12*\n",
            "Password Strength: 10/10 - Excellent 🔥\n"
          ]
        }
      ]
    },
    {
      "cell_type": "markdown",
      "source": [
        "## **Conclusion**\n",
        "This project demonstrates how to evaluate password strength using string methods and logical conditions. By implementing a password strength meter, we make the program more user-friendly and engaging. Strengthening passwords is crucial for cybersecurity, and this tool helps users create more secure credentials."
      ],
      "metadata": {
        "id": "TvVac-Yfxeqt"
      }
    },
    {
      "cell_type": "code",
      "source": [],
      "metadata": {
        "id": "7edt3wC7xhak"
      },
      "execution_count": null,
      "outputs": []
    }
  ]
}