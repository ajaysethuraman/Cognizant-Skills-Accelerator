{
  "nbformat": 4,
  "nbformat_minor": 0,
  "metadata": {
    "colab": {
      "provenance": []
    },
    "kernelspec": {
      "name": "python3",
      "display_name": "Python 3"
    },
    "language_info": {
      "name": "python"
    }
  },
  "cells": [
    {
      "cell_type": "markdown",
      "source": [
        "# **Inventory Management System**\n",
        "## by Ajay Sethuraman\n",
        "## **Introduction**\n",
        "Efficient inventory management is crucial for tracking products, stock levels, and prices. In this project, we implement a simple inventory system using Python dictionaries, lists, and tuples. The system supports adding, removing, updating items, and calculating the total inventory value.\n"
      ],
      "metadata": {
        "id": "KC7Wzwz8z-5l"
      }
    },
    {
      "cell_type": "code",
      "source": [
        "# Initialize an empty inventory dictionary\n",
        "inventory = {\n",
        "    \"apple\": (10, 2.5),\n",
        "    \"banana\": (20, 1.2)\n",
        "}"
      ],
      "metadata": {
        "id": "bAddNx9D0NOB"
      },
      "execution_count": 1,
      "outputs": []
    },
    {
      "cell_type": "code",
      "source": [
        "def add_item(name, quantity, price):\n",
        "    \"\"\"Adds a new item to the inventory.\"\"\"\n",
        "    if name in inventory:\n",
        "        print(f\"{name} already exists. Use update_item() to modify it.\")\n",
        "    else:\n",
        "        inventory[name] = (quantity, price)\n",
        "        print(f\"Added {name} to the inventory.\")\n",
        "\n",
        "def remove_item(name):\n",
        "    \"\"\"Removes an item from the inventory.\"\"\"\n",
        "    if name in inventory:\n",
        "        del inventory[name]\n",
        "        print(f\"Removed {name} from the inventory.\")\n",
        "    else:\n",
        "        print(f\"{name} does not exist in the inventory.\")\n",
        "\n",
        "def update_item(name, quantity=None, price=None):\n",
        "    \"\"\"Updates the quantity or price of an existing item.\"\"\"\n",
        "    if name in inventory:\n",
        "        current_quantity, current_price = inventory[name]\n",
        "        inventory[name] = (quantity if quantity is not None else current_quantity,\n",
        "                           price if price is not None else current_price)\n",
        "        print(f\"Updated {name}: Quantity={inventory[name][0]}, Price=${inventory[name][1]}\")\n",
        "    else:\n",
        "        print(f\"{name} does not exist in the inventory.\")"
      ],
      "metadata": {
        "id": "lzaTJ7Gy0POK"
      },
      "execution_count": 2,
      "outputs": []
    },
    {
      "cell_type": "code",
      "source": [
        "def display_inventory():\n",
        "    \"\"\"Displays all inventory items in a user-friendly format.\"\"\"\n",
        "    print(\"\\nCurrent Inventory:\")\n",
        "    for item, (quantity, price) in inventory.items():\n",
        "        print(f\"Item: {item}, Quantity: {quantity}, Price: ${price}\")"
      ],
      "metadata": {
        "id": "IqPMxje60Rtz"
      },
      "execution_count": 3,
      "outputs": []
    },
    {
      "cell_type": "code",
      "source": [
        "def calculate_total_value():\n",
        "    \"\"\"Calculates and returns the total value of inventory.\"\"\"\n",
        "    total_value = sum(quantity * price for quantity, price in inventory.values())\n",
        "    print(f\"\\nTotal value of inventory: ${total_value:.2f}\")"
      ],
      "metadata": {
        "id": "y6QBswlq0Tia"
      },
      "execution_count": 4,
      "outputs": []
    },
    {
      "cell_type": "markdown",
      "source": [
        "## **Usage**"
      ],
      "metadata": {
        "id": "KqJinPY10ZLu"
      }
    },
    {
      "cell_type": "code",
      "source": [
        "print(\"Welcome to the Inventory Manager!\")\n",
        "display_inventory()\n",
        "\n",
        "# Adding a new item\n",
        "add_item(\"mango\", 15, 3.0)\n",
        "display_inventory()\n",
        "\n",
        "# Updating an existing item\n",
        "update_item(\"banana\", quantity=25)\n",
        "\n",
        "# Removing an item\n",
        "remove_item(\"apple\")\n",
        "display_inventory()\n",
        "\n",
        "# Calculating total inventory value\n",
        "calculate_total_value()"
      ],
      "metadata": {
        "colab": {
          "base_uri": "https://localhost:8080/"
        },
        "id": "drxZKi3v0a6E",
        "outputId": "f96f1c64-7a67-466c-de50-0107c5241eb2"
      },
      "execution_count": 5,
      "outputs": [
        {
          "output_type": "stream",
          "name": "stdout",
          "text": [
            "Welcome to the Inventory Manager!\n",
            "\n",
            "Current Inventory:\n",
            "Item: apple, Quantity: 10, Price: $2.5\n",
            "Item: banana, Quantity: 20, Price: $1.2\n",
            "Added mango to the inventory.\n",
            "\n",
            "Current Inventory:\n",
            "Item: apple, Quantity: 10, Price: $2.5\n",
            "Item: banana, Quantity: 20, Price: $1.2\n",
            "Item: mango, Quantity: 15, Price: $3.0\n",
            "Updated banana: Quantity=25, Price=$1.2\n",
            "Removed apple from the inventory.\n",
            "\n",
            "Current Inventory:\n",
            "Item: banana, Quantity: 25, Price: $1.2\n",
            "Item: mango, Quantity: 15, Price: $3.0\n",
            "\n",
            "Total value of inventory: $75.00\n"
          ]
        }
      ]
    },
    {
      "cell_type": "markdown",
      "source": [
        "## **Conclusion**\n",
        "This project demonstrates how to manage an inventory system effectively using Python data structures. By leveraging dictionaries and tuples, we can store, modify, and retrieve product information efficiently. Enhancing this system with a user-friendly interface or a database connection could further improve its usability."
      ],
      "metadata": {
        "id": "je3f-8L00gxd"
      }
    },
    {
      "cell_type": "code",
      "source": [],
      "metadata": {
        "id": "D9TpviWm0ij7"
      },
      "execution_count": null,
      "outputs": []
    }
  ]
}