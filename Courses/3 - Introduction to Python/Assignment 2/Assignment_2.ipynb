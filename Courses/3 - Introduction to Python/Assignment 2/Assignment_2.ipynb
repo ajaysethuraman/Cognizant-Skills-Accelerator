{
  "nbformat": 4,
  "nbformat_minor": 0,
  "metadata": {
    "colab": {
      "provenance": []
    },
    "kernelspec": {
      "name": "python3",
      "display_name": "Python 3"
    },
    "language_info": {
      "name": "python"
    }
  },
  "cells": [
    {
      "cell_type": "markdown",
      "source": [
        "# **Explore Loops in Python**\n",
        "## By Ajay Sethuraman\n",
        "## **Introduction**\n",
        "Loops are a fundamental concept in programming that allow us to execute repetitive tasks efficiently. In this assignment, we will explore both for and while loops to solve three practical problems: a countdown timer, a multiplication table, and factorial calculation."
      ],
      "metadata": {
        "id": "d_4aV3nns6Ea"
      }
    },
    {
      "cell_type": "markdown",
      "source": [
        "**Task 1:**\n",
        "* Ask the user for a starting number.\n",
        "* Use a while loop to decrement the number until it reaches 1.\n",
        "* Print the countdown numbers in a single line followed by \"Blast off! 🚀\"."
      ],
      "metadata": {
        "id": "m6mZ-W2ztYJ3"
      }
    },
    {
      "cell_type": "code",
      "source": [
        "# Asking the user for a starting number\n",
        "start = int(input(\"Enter the starting number: \"))\n",
        "\n",
        "# Countdown loop\n",
        "while start > 0:\n",
        "    print(start, end=\" \")  # Print on the same line\n",
        "    start -= 1  # Decrease the number by 1\n",
        "\n",
        "# Print final message\n",
        "print(\"Blast off!🚀\")"
      ],
      "metadata": {
        "colab": {
          "base_uri": "https://localhost:8080/"
        },
        "id": "iZ4FkI1XtKog",
        "outputId": "fb79995d-cde7-4011-8dc6-b7f968c62aa1"
      },
      "execution_count": 4,
      "outputs": [
        {
          "output_type": "stream",
          "name": "stdout",
          "text": [
            "Enter the starting number: 15\n",
            "15 14 13 12 11 10 9 8 7 6 5 4 3 2 1 Blast off!🚀\n"
          ]
        }
      ]
    },
    {
      "cell_type": "markdown",
      "source": [
        "**Task 2:**\n",
        "* Ask the user for a number.\n",
        "* Use a for loop to iterate through numbers 1 to 10.\n",
        "* Multiply the input number by each iteration value and print the result."
      ],
      "metadata": {
        "id": "qDiM3yoXtrkX"
      }
    },
    {
      "cell_type": "code",
      "source": [
        "# Asking the user for a number\n",
        "num = int(input(\"Enter a number: \"))\n",
        "\n",
        "# Generating the multiplication table using a for loop\n",
        "for i in range(1, 11):\n",
        "    print(f\"{num} x {i} = {num * i}\")"
      ],
      "metadata": {
        "colab": {
          "base_uri": "https://localhost:8080/"
        },
        "id": "Lso33VjGtinq",
        "outputId": "b486ee9a-3b77-4206-91e7-d181c7afc4ed"
      },
      "execution_count": 5,
      "outputs": [
        {
          "output_type": "stream",
          "name": "stdout",
          "text": [
            "Enter a number: 9\n",
            "9 x 1 = 9\n",
            "9 x 2 = 18\n",
            "9 x 3 = 27\n",
            "9 x 4 = 36\n",
            "9 x 5 = 45\n",
            "9 x 6 = 54\n",
            "9 x 7 = 63\n",
            "9 x 8 = 72\n",
            "9 x 9 = 81\n",
            "9 x 10 = 90\n"
          ]
        }
      ]
    },
    {
      "cell_type": "markdown",
      "source": [
        "**Task 3:**\n",
        "* Ask the user for a number.\n",
        "* Initialize a variable (factorial = 1) to store the result.\n",
        "* Use a for loop to multiply numbers from 1 to the given number.\n",
        "* Print the result in a formatted message."
      ],
      "metadata": {
        "id": "pVjbeop-t6JX"
      }
    },
    {
      "cell_type": "code",
      "source": [
        "# Asking the user for a number\n",
        "num = int(input(\"Enter a number: \"))\n",
        "\n",
        "# Initializing factorial value\n",
        "factorial = 1\n",
        "\n",
        "# Calculating factorial using a for loop\n",
        "for i in range(1, num + 1):\n",
        "    factorial *= i  # Multiply and update factorial\n",
        "\n",
        "# Printing the result\n",
        "print(f\"The factorial of {num} is {factorial}.\")"
      ],
      "metadata": {
        "colab": {
          "base_uri": "https://localhost:8080/"
        },
        "id": "ENn1RsouuC3C",
        "outputId": "736561a4-4d6c-48a8-a937-68609bba6e87"
      },
      "execution_count": 6,
      "outputs": [
        {
          "output_type": "stream",
          "name": "stdout",
          "text": [
            "Enter a number: 5\n",
            "The factorial of 5 is 120.\n"
          ]
        }
      ]
    },
    {
      "cell_type": "markdown",
      "source": [
        "## **Conclusion**\n",
        "This assignment demonstrated the power of loops in Python.\n",
        "\n",
        "* I used a while loop for the countdown timer.\n",
        "* I used a for loop to generate a multiplication table.\n",
        "* I also used a for loop to compute the factorial of a number.\n",
        "\n",
        "These tasks help build a strong understanding of iterative structures and how they can be used to solve real-world problems efficiently."
      ],
      "metadata": {
        "id": "HMkqN4qJuIZP"
      }
    }
  ]
}