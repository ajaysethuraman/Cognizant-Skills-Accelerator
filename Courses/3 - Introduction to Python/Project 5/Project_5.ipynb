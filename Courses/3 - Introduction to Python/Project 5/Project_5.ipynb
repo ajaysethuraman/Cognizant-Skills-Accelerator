{
  "nbformat": 4,
  "nbformat_minor": 0,
  "metadata": {
    "colab": {
      "provenance": [],
      "gpuType": "T4"
    },
    "kernelspec": {
      "name": "python3",
      "display_name": "Python 3"
    },
    "language_info": {
      "name": "python"
    },
    "accelerator": "GPU"
  },
  "cells": [
    {
      "cell_type": "markdown",
      "source": [
        "# **Project: About Menu Functioning**\n",
        "## By Ajay Sethuraman\n",
        "## **Introduction**\n",
        "This project is designed to demonstrate the use of recursion and functions through an interactive menu-driven Python program. The user will be able to perform tasks like calculating the factorial of a number, finding the nth Fibonacci number, and even drawing a recursive fractal pattern (optional). The program will be user-friendly, offering friendly prompts, error messages, and input validation."
      ],
      "metadata": {
        "id": "-mPLUIK81-I-"
      }
    },
    {
      "cell_type": "markdown",
      "source": [
        "**Step 1: Menu of Recursive Functions**\n",
        "\n",
        "**Program Setup**\n",
        "\n",
        "We will create a menu with options to perform different tasks. The user can select from the following options:\n",
        "\n",
        "* Calculate the factorial of a number.\n",
        "* Find the nth Fibonacci number.\n",
        "* Draw a recursive fractal pattern (bonus).\n",
        "* Exit.\n"
      ],
      "metadata": {
        "id": "W858vDPC2XGe"
      }
    },
    {
      "cell_type": "code",
      "execution_count": 1,
      "metadata": {
        "id": "wqINhURx16zw"
      },
      "outputs": [],
      "source": [
        "import turtle\n",
        "\n",
        "# Main menu function\n",
        "def main_menu():\n",
        "    \"\"\"Displays the menu and executes the appropriate function based on the user's choice.\"\"\"\n",
        "    while True:\n",
        "        print(\"\\nWelcome to the Recursive Artistry Program!\")\n",
        "        print(\"Choose an option:\")\n",
        "        print(\"1. Calculate Factorial\")\n",
        "        print(\"2. Find Fibonacci\")\n",
        "        print(\"3. Draw a Recursive Fractal\")\n",
        "        print(\"4. Exit\")\n",
        "\n",
        "        try:\n",
        "            choice = int(input(\"Enter your choice (1-4): \"))\n",
        "            if choice == 1:\n",
        "                # Factorial Calculation\n",
        "                num = int(input(\"Enter a number to find its factorial: \"))\n",
        "                if num < 0:\n",
        "                    print(\"Please enter a positive integer.\")\n",
        "                    continue\n",
        "                print(f\"The factorial of {num} is {factorial(num)}.\")\n",
        "            elif choice == 2:\n",
        "                # Fibonacci Calculation\n",
        "                n = int(input(\"Enter the position of the Fibonacci number: \"))\n",
        "                if n < 0:\n",
        "                    print(\"Please enter a positive integer.\")\n",
        "                    continue\n",
        "                print(f\"The {n}th Fibonacci number is {fibonacci(n)}.\")\n",
        "            elif choice == 3:\n",
        "                # Draw Recursive Fractal\n",
        "                print(\"Drawing a simple fractal tree... 🌳\")\n",
        "                screen = turtle.Screen()\n",
        "                screen.bgcolor(\"white\")\n",
        "                t = turtle.Turtle()\n",
        "                t.left(90)\n",
        "                t.speed(0)\n",
        "                draw_tree(t, 100, 25, 6)\n",
        "                screen.exitonclick()\n",
        "            elif choice == 4:\n",
        "                print(\"Exiting program. Goodbye!\")\n",
        "                break\n",
        "            else:\n",
        "                print(\"Invalid choice, please select a number between 1 and 4.\")\n",
        "        except ValueError:\n",
        "            print(\"Invalid input. Please enter a valid number.\")"
      ]
    },
    {
      "cell_type": "markdown",
      "source": [
        "**Step 2: Factorial Function**\n",
        "\n",
        "The recursive function factorial(n) calculates the factorial of a given number. The base case for the recursion is when the number is 0 or 1, which both return 1. Otherwise, the function calls itself with n - 1 and multiplies the result by n.\n",
        "\n"
      ],
      "metadata": {
        "id": "qVkR1JhZ2vZ3"
      }
    },
    {
      "cell_type": "code",
      "source": [
        "# Recursive function to calculate the factorial\n",
        "def factorial(n):\n",
        "    \"\"\"Calculates the factorial of a number using recursion.\"\"\"\n",
        "    if n == 0 or n == 1:\n",
        "        return 1\n",
        "    else:\n",
        "        return n * factorial(n - 1)"
      ],
      "metadata": {
        "id": "43Agz2VH2fg4"
      },
      "execution_count": 2,
      "outputs": []
    },
    {
      "cell_type": "markdown",
      "source": [
        "**Step 3: Fibonacci Function**\n",
        "\n",
        "The recursive function fibonacci(n) calculates the nth Fibonacci number. The base case is when n is 0 or 1, returning n itself. Otherwise, the function calls itself recursively to calculate the two preceding numbers and adds them together."
      ],
      "metadata": {
        "id": "mryAptjc3Gvt"
      }
    },
    {
      "cell_type": "code",
      "source": [
        "# Recursive function to find the nth Fibonacci number\n",
        "def fibonacci(n):\n",
        "    \"\"\"Calculates the nth Fibonacci number using recursion.\"\"\"\n",
        "    if n <= 1:\n",
        "        return n\n",
        "    else:\n",
        "        return fibonacci(n - 1) + fibonacci(n - 2)\n"
      ],
      "metadata": {
        "id": "Ovzl5Kl32-0e"
      },
      "execution_count": 3,
      "outputs": []
    },
    {
      "cell_type": "markdown",
      "source": [
        "**Step 4: Recursive Fractal Pattern (Bonus)**\n",
        "\n",
        "The bonus part of the project involves using the turtle library to draw a recursive fractal pattern. We use the draw_tree(t, length, angle, level) function, which recursively draws branches of a tree. The base case occurs when the level is 0, stopping further recursion. The function uses the turtle to move forward, turn left, and draw two smaller branches in the opposite directions, creating the fractal tree."
      ],
      "metadata": {
        "id": "qabqqX1s3L-9"
      }
    },
    {
      "cell_type": "code",
      "source": [
        "# Function to draw a recursive fractal pattern (e.g., tree)\n",
        "def draw_tree(t, length, angle, level):\n",
        "    \"\"\"Draws a recursive fractal tree using turtle.\"\"\"\n",
        "    if level > 0:\n",
        "        t.forward(length)\n",
        "        t.left(angle)\n",
        "        draw_tree(t, length * 0.7, angle, level - 1)\n",
        "        t.right(2 * angle)\n",
        "        draw_tree(t, length * 0.7, angle, level - 1)\n",
        "        t.left(angle)\n",
        "        t.backward(length)"
      ],
      "metadata": {
        "id": "8EZEY3Wz3Bxv"
      },
      "execution_count": 4,
      "outputs": []
    },
    {
      "cell_type": "markdown",
      "source": [
        "The program has several user-friendly features:\n",
        "\n",
        "* Input validation: Ensures the user enters positive integers for factorial and Fibonacci calculations.\n",
        "* Error handling: If the user enters an invalid option or non-integer values, the program prompts them again.\n",
        "* Friendly prompts: Clear and friendly messages guide the user through the program."
      ],
      "metadata": {
        "id": "aDbezM_33Yo0"
      }
    },
    {
      "cell_type": "code",
      "source": [
        "if __name__ == \"__main__\":\n",
        "    main_menu()"
      ],
      "metadata": {
        "colab": {
          "base_uri": "https://localhost:8080/"
        },
        "id": "eswH-VMV3bRf",
        "outputId": "8d0b75c7-62c5-48e9-fa19-642bedaf37a7"
      },
      "execution_count": 6,
      "outputs": [
        {
          "output_type": "stream",
          "name": "stdout",
          "text": [
            "\n",
            "Welcome to the Recursive Artistry Program!\n",
            "Choose an option:\n",
            "1. Calculate Factorial\n",
            "2. Find Fibonacci\n",
            "3. Draw a Recursive Fractal\n",
            "4. Exit\n",
            "Enter your choice (1-4): 2\n",
            "Enter the position of the Fibonacci number: 6\n",
            "The 6th Fibonacci number is 8.\n",
            "\n",
            "Welcome to the Recursive Artistry Program!\n",
            "Choose an option:\n",
            "1. Calculate Factorial\n",
            "2. Find Fibonacci\n",
            "3. Draw a Recursive Fractal\n",
            "4. Exit\n",
            "Enter your choice (1-4): 1\n",
            "Enter a number to find its factorial: 6\n",
            "The factorial of 6 is 720.\n",
            "\n",
            "Welcome to the Recursive Artistry Program!\n",
            "Choose an option:\n",
            "1. Calculate Factorial\n",
            "2. Find Fibonacci\n",
            "3. Draw a Recursive Fractal\n",
            "4. Exit\n",
            "Enter your choice (1-4): 4\n",
            "Exiting program. Goodbye!\n"
          ]
        }
      ]
    },
    {
      "cell_type": "markdown",
      "source": [
        "## **Conclusion**\n",
        "This project demonstrates the power of recursion in Python through interactive menu choices. The recursive functions for factorial calculation, Fibonacci sequence generation, and fractal tree drawing showcase how recursion can be applied to real-world problems in a user-friendly, engaging way."
      ],
      "metadata": {
        "id": "Ukf2kTzv4XE0"
      }
    },
    {
      "cell_type": "code",
      "source": [],
      "metadata": {
        "id": "BeocgKav4aGd"
      },
      "execution_count": null,
      "outputs": []
    }
  ]
}