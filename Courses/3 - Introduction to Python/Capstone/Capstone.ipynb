{
  "nbformat": 4,
  "nbformat_minor": 0,
  "metadata": {
    "colab": {
      "provenance": []
    },
    "kernelspec": {
      "name": "python3",
      "display_name": "Python 3"
    },
    "language_info": {
      "name": "python"
    }
  },
  "cells": [
    {
      "cell_type": "markdown",
      "source": [
        "# **Capstone Project: Python-Based Employee Management System**\n",
        "## By Ajay Sethuraman\n",
        "## **Overview**\n",
        "Title: Python-Based Employee Management System\n",
        "Overview\n",
        "The Python-Based Employee Management System is an interactive application designed to manage employee information in an organization. The system enables users to store employee details, track performance, and generate reports based on criteria such as department, performance rating, and more. The project integrates fundamental Python programming concepts such as loops, conditional statements, data structures, exception handling, and file handling. This project aims to demonstrate the ability to create a functional, error-resilient application that meets real-world business needs.\n",
        "\n",
        "**Project Objectives**\n",
        "\n",
        "The goal of this capstone project is to:\n",
        "\n",
        "* Develop a Python-based application to manage employee data efficiently.\n",
        "* Implement a performance tracking system where the application calculates and displays employee performance based on user input.\n",
        "* Ensure the system can handle invalid inputs gracefully with appropriate error handling mechanisms.\n",
        "* Allow for report generation based on employee information.\n",
        "\n",
        "**User Stories**\n",
        "\n",
        "**User Story 1: Task Prioritization**\n",
        "\n",
        "As a student or employee manager, I want to organize tasks or employee projects by deadlines and priority so that I can manage the workload efficiently.\n",
        "\n",
        "**Solution:** The application will allow the user to input employee tasks or projects with deadlines and priority levels. The system will automatically generate a prioritized task list based on the given priority.\n",
        "\n",
        "**User Story 2: Performance Tracking**\n",
        "\n",
        "As a student or employee manager, I want to track performance across different tasks or projects to identify areas for improvement and make data-driven decisions.\n",
        "\n",
        "**Solution:** The application will allow for the input of employee performance scores and automatically calculate averages, flagging areas where improvements can be made.\n",
        "\n",
        "**Implementation Plan**\n",
        "\n",
        "**Phase 1: Task Management**\n",
        "* Develop input methods for employee task details such as task name, priority, and deadline.\n",
        "* Organize the input data in a way that allows sorting based on priority and deadline.\n",
        "* Output the sorted tasks with clear labels and formatting.\n",
        "\n",
        "**Phase 2: Performance Tracking**\n",
        "\n",
        "* Implement methods to track and store employee scores for different tasks.\n",
        "* Calculate the average score for each employee and flag areas where performance is below average.\n",
        "* Allow the user to input feedback for each employee based on performance.\n",
        "\n",
        "**Phase 3: Error Handling**\n",
        "\n",
        "* Implement exception handling to handle invalid inputs for task management and performance tracking (e.g., non-numeric scores).\n",
        "* Provide appropriate feedback and error messages to the user for all invalid operations.\n",
        "* Enhance application stability by ensuring all errors are logged and handled gracefully.\n",
        "\n",
        "**Learning Outcomes**\n",
        "\n",
        "By completing this project, the following skills will be acquired:\n",
        "\n",
        "* Python Basics: Understanding and using variables, loops, data structures (lists, dictionaries), and conditional statements.\n",
        "* Error Handling: Applying exception handling mechanisms to catch and manage common errors.\n",
        "* Modular Programming: Breaking down the program into manageable, reusable functions for clarity and maintainability.\n",
        "* File Handling: Using Python’s built-in file handling capabilities to store and retrieve data efficiently."
      ],
      "metadata": {
        "id": "A8xY07Hl75CO"
      }
    },
    {
      "cell_type": "code",
      "execution_count": 1,
      "metadata": {
        "id": "S-a_Gyqs7lcF"
      },
      "outputs": [],
      "source": [
        "import logging\n",
        "\n",
        "# Configure logging to track errors\n",
        "logging.basicConfig(filename='employee_management_log.txt', level=logging.ERROR)"
      ]
    },
    {
      "cell_type": "code",
      "source": [
        "class Employee:\n",
        "    def __init__(self, name, department, tasks=None, performance_scores=None):\n",
        "        self.name = name\n",
        "        self.department = department\n",
        "        self.tasks = tasks if tasks else []\n",
        "        self.performance_scores = performance_scores if performance_scores else []\n",
        "\n",
        "    def add_task(self, task, priority, deadline):\n",
        "        self.tasks.append({\"task\": task, \"priority\": priority, \"deadline\": deadline})\n",
        "\n",
        "    def add_performance_score(self, score):\n",
        "        self.performance_scores.append(score)\n",
        "\n",
        "    def average_score(self):\n",
        "        if len(self.performance_scores) == 0:\n",
        "            return 0\n",
        "        return sum(self.performance_scores) / len(self.performance_scores)"
      ],
      "metadata": {
        "id": "NWAqdytZ-eZt"
      },
      "execution_count": 2,
      "outputs": []
    },
    {
      "cell_type": "code",
      "source": [
        "def display_menu():\n",
        "    print(\"\\n--- Employee Management System ---\")\n",
        "    print(\"1. Add Employee\")\n",
        "    print(\"2. Add Task\")\n",
        "    print(\"3. Track Performance\")\n",
        "    print(\"4. View Employee Tasks\")\n",
        "    print(\"5. View Performance Report\")\n",
        "    print(\"6. Exit\")"
      ],
      "metadata": {
        "id": "b1PqbBLx-gvj"
      },
      "execution_count": 3,
      "outputs": []
    },
    {
      "cell_type": "code",
      "source": [
        "def get_number_input(prompt):\n",
        "    while True:\n",
        "        try:\n",
        "            return float(input(prompt))\n",
        "        except ValueError:\n",
        "            print(\"Invalid input! Please enter a valid number.\")"
      ],
      "metadata": {
        "id": "LpMqsbrF-ioC"
      },
      "execution_count": 4,
      "outputs": []
    },
    {
      "cell_type": "code",
      "source": [
        "def get_employee_input():\n",
        "    name = input(\"Enter employee name: \")\n",
        "    department = input(\"Enter employee department: \")\n",
        "    return Employee(name, department)"
      ],
      "metadata": {
        "id": "kkO6CpJg-mh9"
      },
      "execution_count": 5,
      "outputs": []
    },
    {
      "cell_type": "code",
      "source": [
        "def add_employee(employees):\n",
        "    employee = get_employee_input()\n",
        "    employees.append(employee)\n",
        "    print(f\"Employee {employee.name} added successfully!\")"
      ],
      "metadata": {
        "id": "BjV9jEVo-ogY"
      },
      "execution_count": 6,
      "outputs": []
    },
    {
      "cell_type": "code",
      "source": [
        "def add_task(employee):\n",
        "    task_name = input(\"Enter task name: \")\n",
        "    priority = get_number_input(\"Enter task priority (1-high, 2-medium, 3-low): \")\n",
        "    deadline = input(\"Enter task deadline (YYYY-MM-DD): \")\n",
        "    employee.add_task(task_name, priority, deadline)\n",
        "    print(f\"Task '{task_name}' added to {employee.name}'s schedule.\")"
      ],
      "metadata": {
        "id": "dGtzC2cs-p3X"
      },
      "execution_count": 7,
      "outputs": []
    },
    {
      "cell_type": "code",
      "source": [
        "def track_performance(employee):\n",
        "    score = get_number_input(f\"Enter performance score for {employee.name}: \")\n",
        "    employee.add_performance_score(score)\n",
        "    print(f\"Performance score of {score} added for {employee.name}.\")"
      ],
      "metadata": {
        "id": "gsipn7bX-rVC"
      },
      "execution_count": 8,
      "outputs": []
    },
    {
      "cell_type": "code",
      "source": [
        "def view_employee_tasks(employee):\n",
        "    print(f\"Tasks for {employee.name}:\")\n",
        "    sorted_tasks = sorted(employee.tasks, key=lambda x: x['priority'])\n",
        "    for task in sorted_tasks:\n",
        "        print(f\"Task: {task['task']} | Priority: {task['priority']} | Deadline: {task['deadline']}\")"
      ],
      "metadata": {
        "id": "r4OuPGVk-snS"
      },
      "execution_count": 9,
      "outputs": []
    },
    {
      "cell_type": "code",
      "source": [
        "def view_performance_report(employee):\n",
        "    avg_score = employee.average_score()\n",
        "    print(f\"Performance Report for {employee.name}:\")\n",
        "    print(f\"Average Score: {avg_score:.2f}\")\n",
        "    if avg_score < 50:\n",
        "        print(\"Improvement Needed!\")\n",
        "    else:\n",
        "        print(\"Great Performance!\")"
      ],
      "metadata": {
        "id": "4cYRA_7E-uNN"
      },
      "execution_count": 10,
      "outputs": []
    },
    {
      "cell_type": "code",
      "source": [
        "def main():\n",
        "    employees = []\n",
        "\n",
        "    while True:\n",
        "        display_menu()\n",
        "        choice = input(\"Choose an option: \")\n",
        "\n",
        "        if choice == '1':\n",
        "            add_employee(employees)\n",
        "        elif choice == '2':\n",
        "            name = input(\"Enter employee name: \")\n",
        "            employee = next((e for e in employees if e.name == name), None)\n",
        "            if employee:\n",
        "                add_task(employee)\n",
        "            else:\n",
        "                print(\"Employee not found.\")\n",
        "        elif choice == '3':\n",
        "            name = input(\"Enter employee name: \")\n",
        "            employee = next((e for e in employees if e.name == name), None)\n",
        "            if employee:\n",
        "                track_performance(employee)\n",
        "            else:\n",
        "                print(\"Employee not found.\")\n",
        "        elif choice == '4':\n",
        "            name = input(\"Enter employee name: \")\n",
        "            employee = next((e for e in employees if e.name == name), None)\n",
        "            if employee:\n",
        "                view_employee_tasks(employee)\n",
        "            else:\n",
        "                print(\"Employee not found.\")\n",
        "        elif choice == '5':\n",
        "            name = input(\"Enter employee name: \")\n",
        "            employee = next((e for e in employees if e.name == name), None)\n",
        "            if employee:\n",
        "                view_performance_report(employee)\n",
        "            else:\n",
        "                print(\"Employee not found.\")\n",
        "        elif choice == '6':\n",
        "            print(\"Exiting system. Goodbye!\")\n",
        "            break\n",
        "        else:\n",
        "            print(\"Invalid option. Please try again.\")"
      ],
      "metadata": {
        "id": "VD5UXTLe-wa1"
      },
      "execution_count": 11,
      "outputs": []
    },
    {
      "cell_type": "code",
      "source": [
        "if __name__ == \"__main__\":\n",
        "    try:\n",
        "        main()\n",
        "    except Exception as e:\n",
        "        logging.error(f\"An error occurred: {str(e)}\")\n",
        "        print(\"An error occurred. Please check the log file for more details.\")"
      ],
      "metadata": {
        "colab": {
          "base_uri": "https://localhost:8080/"
        },
        "id": "dIR6Ez5Q-yi_",
        "outputId": "ade9ca45-bb33-476b-890c-4d6272884c02"
      },
      "execution_count": 12,
      "outputs": [
        {
          "output_type": "stream",
          "name": "stdout",
          "text": [
            "\n",
            "--- Employee Management System ---\n",
            "1. Add Employee\n",
            "2. Add Task\n",
            "3. Track Performance\n",
            "4. View Employee Tasks\n",
            "5. View Performance Report\n",
            "6. Exit\n",
            "Choose an option: 1\n",
            "Enter employee name: Ajay\n",
            "Enter employee department: MDR\n",
            "Employee Ajay added successfully!\n",
            "\n",
            "--- Employee Management System ---\n",
            "1. Add Employee\n",
            "2. Add Task\n",
            "3. Track Performance\n",
            "4. View Employee Tasks\n",
            "5. View Performance Report\n",
            "6. Exit\n",
            "Choose an option: 2\n",
            "Enter employee name: Ajay\n",
            "Enter task name: Refinement\n",
            "Enter task priority (1-high, 2-medium, 3-low): 1\n",
            "Enter task deadline (YYYY-MM-DD): 2025-03-21\n",
            "Task 'Refinement' added to Ajay's schedule.\n",
            "\n",
            "--- Employee Management System ---\n",
            "1. Add Employee\n",
            "2. Add Task\n",
            "3. Track Performance\n",
            "4. View Employee Tasks\n",
            "5. View Performance Report\n",
            "6. Exit\n",
            "Choose an option: 3\n",
            "Enter employee name: Ajay\n",
            "Enter performance score for Ajay: 96\n",
            "Performance score of 96.0 added for Ajay.\n",
            "\n",
            "--- Employee Management System ---\n",
            "1. Add Employee\n",
            "2. Add Task\n",
            "3. Track Performance\n",
            "4. View Employee Tasks\n",
            "5. View Performance Report\n",
            "6. Exit\n",
            "Choose an option: 4\n",
            "Enter employee name: Ajay\n",
            "Tasks for Ajay:\n",
            "Task: Refinement | Priority: 1.0 | Deadline: 2025-03-21\n",
            "\n",
            "--- Employee Management System ---\n",
            "1. Add Employee\n",
            "2. Add Task\n",
            "3. Track Performance\n",
            "4. View Employee Tasks\n",
            "5. View Performance Report\n",
            "6. Exit\n",
            "Choose an option: 5\n",
            "Enter employee name: Ajay\n",
            "Performance Report for Ajay:\n",
            "Average Score: 96.00\n",
            "Great Performance!\n",
            "\n",
            "--- Employee Management System ---\n",
            "1. Add Employee\n",
            "2. Add Task\n",
            "3. Track Performance\n",
            "4. View Employee Tasks\n",
            "5. View Performance Report\n",
            "6. Exit\n",
            "Choose an option: 6\n",
            "Exiting system. Goodbye!\n"
          ]
        }
      ]
    },
    {
      "cell_type": "markdown",
      "source": [
        "1. **Employee Class:** The Employee class holds employee details, including tasks and performance scores.\n",
        "* add_task: Adds a task with a given priority and deadline.\n",
        "* add_performance_score: Adds a performance score for the employee.\n",
        "* average_score: Calculates the average performance score.\n",
        "\n",
        "2. **Menu System:** The display_menu function presents options for adding employees, tasks, tracking performance, and viewing reports.\n",
        "\n",
        "3. **Input Handling:** Functions like get_number_input ensure valid numerical input is provided by users.\n",
        "\n",
        "4. **Exception Handling:** The try...except block in the main function logs errors to a file if an unexpected error occurs.\n",
        "\n",
        "5. **Logging:** The logging module is used to track errors that occur during execution, which helps with debugging."
      ],
      "metadata": {
        "id": "LWh_6OHb_NpG"
      }
    },
    {
      "cell_type": "markdown",
      "source": [
        "##**Conclusion**\n",
        "This Python-Based Employee Management System project integrates core programming concepts and tools to create a user-friendly and functional application for managing employee tasks and performance. The use of Python fundamentals, error handling, and modular programming techniques has allowed the development of a stable and maintainable application that meets the needs of businesses looking to track employee data efficiently. Through this capstone project, key skills such as Python programming, error resilience, and file handling have been demonstrated."
      ],
      "metadata": {
        "id": "q11vDNsM_fbu"
      }
    },
    {
      "cell_type": "code",
      "source": [],
      "metadata": {
        "id": "XFtV7mR6_iJ0"
      },
      "execution_count": null,
      "outputs": []
    }
  ]
}