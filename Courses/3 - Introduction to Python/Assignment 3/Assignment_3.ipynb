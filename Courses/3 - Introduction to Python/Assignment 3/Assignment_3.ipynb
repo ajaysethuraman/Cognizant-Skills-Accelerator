{
  "nbformat": 4,
  "nbformat_minor": 0,
  "metadata": {
    "colab": {
      "provenance": []
    },
    "kernelspec": {
      "name": "python3",
      "display_name": "Python 3"
    },
    "language_info": {
      "name": "python"
    }
  },
  "cells": [
    {
      "cell_type": "markdown",
      "source": [
        "# **Exploring String Methods**\n",
        "## By Ajay Sethuraman\n",
        "## **Introduction**\n",
        "Strings are one of the most fundamental data types in Python. They offer a variety of methods for manipulation, slicing, and formatting. In this assignment, we’ll explore different string operations through three exciting tasks: slicing, using string methods, and checking for palindromes.\n",
        "\n",
        "**Task 1 - String Slicing and Indexing**\n",
        "\n",
        "We will extract specific parts of a string using slicing and indexing."
      ],
      "metadata": {
        "id": "ut4ylY-1vcTO"
      }
    },
    {
      "cell_type": "code",
      "source": [
        "# Define the string\n",
        "text = \"Python is amazing!\"\n",
        "\n",
        "# Extracting parts using slicing\n",
        "first_word = text[:6]  # \"Python\"\n",
        "amazing_part = text[10:-1]  # \"amazing\"\n",
        "reversed_text = text[::-1]  # Reverse the entire string\n",
        "\n",
        "# Printing the results\n",
        "print(\"First word:\", first_word)\n",
        "print(\"Amazing part:\", amazing_part)\n",
        "print(\"Reversed string:\", reversed_text)"
      ],
      "metadata": {
        "colab": {
          "base_uri": "https://localhost:8080/"
        },
        "id": "5P8eQmQiv02D",
        "outputId": "e5c69107-4d9f-43f0-be70-524031ef0da5"
      },
      "execution_count": 1,
      "outputs": [
        {
          "output_type": "stream",
          "name": "stdout",
          "text": [
            "First word: Python\n",
            "Amazing part: amazing\n",
            "Reversed string: !gnizama si nohtyP\n"
          ]
        }
      ]
    },
    {
      "cell_type": "markdown",
      "source": [
        "**Task 2 - Exploring String Methods**\n",
        "\n",
        "We will apply common string methods to format and modify a given string."
      ],
      "metadata": {
        "id": "ezenzucFwGpW"
      }
    },
    {
      "cell_type": "code",
      "source": [
        "# Define the string\n",
        "text = \" hello, python world! \"\n",
        "\n",
        "# Applying string methods\n",
        "stripped_text = text.strip()  # Remove extra spaces\n",
        "capitalized_text = stripped_text.capitalize()  # Capitalize first letter\n",
        "replaced_text = stripped_text.replace(\"world\", \"universe\")  # Replace word\n",
        "upper_text = stripped_text.upper()  # Convert to uppercase\n",
        "\n",
        "# Printing results\n",
        "print(\"Stripped:\", stripped_text)\n",
        "print(\"Capitalized:\", capitalized_text)\n",
        "print(\"Replaced:\", replaced_text)\n",
        "print(\"Uppercase:\", upper_text)"
      ],
      "metadata": {
        "colab": {
          "base_uri": "https://localhost:8080/"
        },
        "id": "gXofdv4_wIxI",
        "outputId": "f7f0b3fc-7cc5-4cdd-ddcf-d0a6f326fded"
      },
      "execution_count": 2,
      "outputs": [
        {
          "output_type": "stream",
          "name": "stdout",
          "text": [
            "Stripped: hello, python world!\n",
            "Capitalized: Hello, python world!\n",
            "Replaced: hello, python universe!\n",
            "Uppercase: HELLO, PYTHON WORLD!\n"
          ]
        }
      ]
    },
    {
      "cell_type": "markdown",
      "source": [
        "**Task 3 - Check for Palindromes**\n",
        "\n",
        "A palindrome is a word that reads the same forward and backward. We will write a program to check for palindromes."
      ],
      "metadata": {
        "id": "pJfAPkdkwMVu"
      }
    },
    {
      "cell_type": "code",
      "source": [
        "# Asking for user input\n",
        "word = input(\"Enter a word: \").lower()  # Convert to lowercase for consistency\n",
        "\n",
        "# Check if the word is a palindrome\n",
        "if word == word[::-1]:\n",
        "    print(f\"Yes, '{word}' is a palindrome! 🎉\")\n",
        "else:\n",
        "    print(f\"No, '{word}' is not a palindrome. ❌\")"
      ],
      "metadata": {
        "colab": {
          "base_uri": "https://localhost:8080/"
        },
        "id": "6E7_pjEpwPjE",
        "outputId": "5adf3e47-47d4-489e-c02d-02be3c5f1ab1"
      },
      "execution_count": 3,
      "outputs": [
        {
          "output_type": "stream",
          "name": "stdout",
          "text": [
            "Enter a word: saippuakivikauppias\n",
            "Yes, 'saippuakivikauppias' is a palindrome! 🎉\n"
          ]
        }
      ]
    },
    {
      "cell_type": "markdown",
      "source": [
        "## **Conclusion**\n",
        "Through this assignment, I explored string slicing, various string methods, and palindrome checking. These operations are powerful tools for text processing and manipulation in Python."
      ],
      "metadata": {
        "id": "DBs5b3J5wbOT"
      }
    }
  ]
}