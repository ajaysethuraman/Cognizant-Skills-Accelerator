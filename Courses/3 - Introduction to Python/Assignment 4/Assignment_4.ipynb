{
  "nbformat": 4,
  "nbformat_minor": 0,
  "metadata": {
    "colab": {
      "provenance": []
    },
    "kernelspec": {
      "name": "python3",
      "display_name": "Python 3"
    },
    "language_info": {
      "name": "python"
    }
  },
  "cells": [
    {
      "cell_type": "markdown",
      "source": [
        "# **Hands-on Python Data Structures**\n",
        "## By Ajay Sethuraman\n",
        "## **Introduction**\n",
        "Python offers powerful data structures like lists, dictionaries, and tuples, which are essential for organizing and manipulating data efficiently. This assignment explores these data structures through practical tasks.\n",
        "\n",
        "**Task 1: Working with Lists**"
      ],
      "metadata": {
        "id": "DEaSOXTgzGmG"
      }
    },
    {
      "cell_type": "code",
      "source": [
        "# Creating a list of favorite fruits\n",
        "fruits = ['apple', 'banana', 'cherry', 'date', 'elderberry']\n",
        "\n",
        "print(\"Original list:\", fruits)\n",
        "\n",
        "# Appending a new fruit\n",
        "fruits.append('fig')\n",
        "print(\"After adding a fruit:\", fruits)\n",
        "\n",
        "# Removing a fruit\n",
        "fruits.remove('apple')\n",
        "print(\"After removing a fruit:\", fruits)\n",
        "\n",
        "# Printing the list in reverse order\n",
        "print(\"Reversed list:\", fruits[::-1])"
      ],
      "metadata": {
        "colab": {
          "base_uri": "https://localhost:8080/"
        },
        "id": "FbOyeu6rzR5I",
        "outputId": "8244890c-163e-46db-bf3f-113610691ecd"
      },
      "execution_count": 1,
      "outputs": [
        {
          "output_type": "stream",
          "name": "stdout",
          "text": [
            "Original list: ['apple', 'banana', 'cherry', 'date', 'elderberry']\n",
            "After adding a fruit: ['apple', 'banana', 'cherry', 'date', 'elderberry', 'fig']\n",
            "After removing a fruit: ['banana', 'cherry', 'date', 'elderberry', 'fig']\n",
            "Reversed list: ['fig', 'elderberry', 'date', 'cherry', 'banana']\n"
          ]
        }
      ]
    },
    {
      "cell_type": "markdown",
      "source": [
        "**Task 2: Exploring Dictionaries**"
      ],
      "metadata": {
        "id": "lnAR0Up7zdVN"
      }
    },
    {
      "cell_type": "code",
      "source": [
        "# Creating a dictionary with personal details\n",
        "person = {\n",
        "    \"name\": \"Alice\",\n",
        "    \"age\": 25,\n",
        "    \"city\": \"New York\"\n",
        "}\n",
        "\n",
        "# Adding a new key-value pair\n",
        "person[\"favorite color\"] = \"Blue\"\n",
        "\n",
        "# Updating the city\n",
        "person[\"city\"] = \"Los Angeles\"\n",
        "\n",
        "# Printing all keys and values\n",
        "print(\"Keys:\", \", \".join(person.keys()))\n",
        "print(\"Values:\", \", \".join(str(value) for value in person.values()))"
      ],
      "metadata": {
        "colab": {
          "base_uri": "https://localhost:8080/"
        },
        "id": "RAEO-3kszeqk",
        "outputId": "598d5095-e7f6-4e51-e89e-fe9c850d2090"
      },
      "execution_count": 2,
      "outputs": [
        {
          "output_type": "stream",
          "name": "stdout",
          "text": [
            "Keys: name, age, city, favorite color\n",
            "Values: Alice, 25, Los Angeles, Blue\n"
          ]
        }
      ]
    },
    {
      "cell_type": "markdown",
      "source": [
        "**Task 3: Using Tuples**"
      ],
      "metadata": {
        "id": "4tSXdoHEzitN"
      }
    },
    {
      "cell_type": "code",
      "source": [
        "# Creating a tuple of favorite items\n",
        "favorite_things = (\"Inception\", \"Bohemian Rhapsody\", \"1984\")\n",
        "\n",
        "# Trying to modify a tuple (this will cause an error)\n",
        "try:\n",
        "    favorite_things[0] = \"The Matrix\"\n",
        "except TypeError:\n",
        "    print(\"Oops! Tuples cannot be changed.\")\n",
        "\n",
        "# Printing the length of the tuple\n",
        "print(\"Length of tuple:\", len(favorite_things))"
      ],
      "metadata": {
        "colab": {
          "base_uri": "https://localhost:8080/"
        },
        "id": "1uC_QFESzlzc",
        "outputId": "192700da-e09b-4863-ff19-facd7c0e7246"
      },
      "execution_count": 3,
      "outputs": [
        {
          "output_type": "stream",
          "name": "stdout",
          "text": [
            "Oops! Tuples cannot be changed.\n",
            "Length of tuple: 3\n"
          ]
        }
      ]
    },
    {
      "cell_type": "markdown",
      "source": [
        "## **Conclusion**\n",
        "This assignment demonstrates the versatility of Python’s data structures. Lists allow dynamic modifications, dictionaries enable structured data storage, and tuples ensure immutability. Mastering these structures is essential for efficient Python programming."
      ],
      "metadata": {
        "id": "52Q8lWLazsY2"
      }
    },
    {
      "cell_type": "code",
      "source": [],
      "metadata": {
        "id": "QxqNNSy7zuig"
      },
      "execution_count": null,
      "outputs": []
    }
  ]
}