{
  "nbformat": 4,
  "nbformat_minor": 0,
  "metadata": {
    "colab": {
      "provenance": []
    },
    "kernelspec": {
      "name": "python3",
      "display_name": "Python 3"
    },
    "language_info": {
      "name": "python"
    }
  },
  "cells": [
    {
      "cell_type": "markdown",
      "source": [
        "# **Exploring Python Concepts**\n",
        "## By Ajay Sethuraman\n",
        "## **Introduction**\n",
        "In this assignment, we will explore some fundamental Python concepts, such as variables, operators, and conditional statements. These concepts are the building blocks of programming, and mastering them will lay a solid foundation for more advanced topics. By the end of this assignment, you will be able to use variables to store data, perform operations on numbers, and write conditional statements to make decisions based on user input."
      ],
      "metadata": {
        "id": "xXfoBhMqqDLb"
      }
    },
    {
      "cell_type": "code",
      "source": [
        "# Creating variables to store personal information\n",
        "name = \"Ajay\"  # String variable for name\n",
        "age = 25  # Integer variable for age\n",
        "height = 6.0  # Floating-point variable for height\n",
        "\n",
        "# Printing a friendly message\n",
        "print(\"Hey there, my name is\", name + \"!\", \"I’m\", age, \"years old and\", height, \"feet tall.\")"
      ],
      "metadata": {
        "colab": {
          "base_uri": "https://localhost:8080/"
        },
        "id": "PcfBtb19qNCa",
        "outputId": "e565f032-68c5-4cd3-cce4-a5b9de7d8a8d"
      },
      "execution_count": 3,
      "outputs": [
        {
          "output_type": "stream",
          "name": "stdout",
          "text": [
            "Hey there, my name is Ajay! I’m 25 years old and 6.0 feet tall.\n"
          ]
        }
      ]
    },
    {
      "cell_type": "markdown",
      "source": [
        "* We created three variables: name, age, and height, each storing different types of data: string, integer, and float, respectively.\n",
        "* The print() function is used to output a message that includes the values stored in these variables. By concatenating strings and numbers, we create a personalized message.\n",
        "\n",
        "\n",
        "\n"
      ],
      "metadata": {
        "id": "S7va9KPzqbAx"
      }
    },
    {
      "cell_type": "code",
      "source": [
        "# Defining two numbers\n",
        "num1 = 10\n",
        "num2 = 3\n",
        "\n",
        "# Performing addition\n",
        "print(\"The sum of\", num1, \"and\", num2, \"is\", num1 + num2)\n",
        "\n",
        "# Performing subtraction\n",
        "print(\"The difference when\", num2, \"is subtracted from\", num1, \"is\", num1 - num2)\n",
        "\n",
        "# Performing multiplication\n",
        "print(\"The product of\", num1, \"and\", num2, \"is\", num1 * num2)\n",
        "\n",
        "# Performing division\n",
        "print(\"The division of\", num1, \"by\", num2, \"is\", num1 / num2)"
      ],
      "metadata": {
        "colab": {
          "base_uri": "https://localhost:8080/"
        },
        "id": "IhdPlNkfqgJ7",
        "outputId": "bde26721-03ed-4297-949c-3adbfc675fe1"
      },
      "execution_count": 4,
      "outputs": [
        {
          "output_type": "stream",
          "name": "stdout",
          "text": [
            "The sum of 10 and 3 is 13\n",
            "The difference when 3 is subtracted from 10 is 7\n",
            "The product of 10 and 3 is 30\n",
            "The division of 10 by 3 is 3.3333333333333335\n"
          ]
        }
      ]
    },
    {
      "cell_type": "markdown",
      "source": [
        "The two numbers num1 and num2 are assigned values of 10 and 3, respectively.\n",
        "We then perform the four basic arithmetic operations:\n",
        "* Addition: num1 + num2\n",
        "* Subtraction: num1 - num2\n",
        "* Multiplication: num1 * num2\n",
        "* Division: num1 / num2\n",
        "<br>Each result is printed with a clear message, explaining the operation being performed."
      ],
      "metadata": {
        "id": "szvPiYxKqp-K"
      }
    },
    {
      "cell_type": "code",
      "source": [
        "# Taking user input\n",
        "num = float(input(\"Enter a number: \"))\n",
        "\n",
        "# Checking if the number is positive, negative, or zero\n",
        "if num > 0:\n",
        "    print(\"This number is positive. Awesome!\")\n",
        "elif num < 0:\n",
        "    print(\"This number is negative. Better luck next time!\")\n",
        "else:\n",
        "    print(\"Zero it is. A perfect balance!\")"
      ],
      "metadata": {
        "colab": {
          "base_uri": "https://localhost:8080/"
        },
        "id": "C0omiyB4qwfD",
        "outputId": "3a126348-4da0-45ec-df61-f8856902ee18"
      },
      "execution_count": 5,
      "outputs": [
        {
          "output_type": "stream",
          "name": "stdout",
          "text": [
            "Enter a number: 3\n",
            "This number is positive. Awesome!\n"
          ]
        }
      ]
    },
    {
      "cell_type": "markdown",
      "source": [
        "The input() function is used to ask the user to enter a number. The float() function is used to convert the input into a floating-point number, as it can handle both integers and decimals.\n",
        "<br>We use an if-elif-else statement to check the number:\n",
        "* If the number is greater than 0, it prints \"This number is positive. Awesome!\".\n",
        "* If the number is less than 0, it prints \"This number is negative. Better luck next time!\".\n",
        "* If the number is exactly 0, it prints \"Zero it is. A perfect balance!\"."
      ],
      "metadata": {
        "id": "lpjzyyMMq20o"
      }
    },
    {
      "cell_type": "markdown",
      "source": [
        "## **Conclusion**\n",
        "In this assignment, I covered essential Python concepts, including variables, operators, and conditional statements. I created variables to store personal data and printed them in a friendly message. I also performed basic arithmetic operations and displayed the results with appropriate messages. Finally, I wrote a program that checks whether a user-input number is positive, negative, or zero using conditional statements. These concepts will serve as the foundation for more complex programming tasks."
      ],
      "metadata": {
        "id": "SJ8tdUAwq-mH"
      }
    },
    {
      "cell_type": "code",
      "source": [],
      "metadata": {
        "id": "V4Bc3DHRrEE8"
      },
      "execution_count": null,
      "outputs": []
    }
  ]
}