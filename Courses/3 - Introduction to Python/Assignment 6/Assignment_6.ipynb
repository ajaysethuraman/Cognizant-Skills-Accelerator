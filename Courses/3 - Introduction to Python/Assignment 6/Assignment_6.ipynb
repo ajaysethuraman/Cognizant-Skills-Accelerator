{
  "nbformat": 4,
  "nbformat_minor": 0,
  "metadata": {
    "colab": {
      "provenance": []
    },
    "kernelspec": {
      "name": "python3",
      "display_name": "Python 3"
    },
    "language_info": {
      "name": "python"
    }
  },
  "cells": [
    {
      "cell_type": "markdown",
      "source": [
        "#**Assignment: Check your Knowledge on Errors**\n",
        "##By Ajay Sethuraman\n",
        "##**Introduction**\n",
        "Errors and exceptions are integral components of programming in Python, ensuring the robustness and fault-tolerance of code. Understanding how to handle errors gracefully not only prevents program crashes but also provides users with informative feedback. This assignment focuses on writing Python code to handle exceptions and errors efficiently by using different exception types, along with the try...except...else...finally construct. Through the completion of the tasks, we will explore the handling of common Python errors such as ZeroDivisionError, ValueError, IndexError, KeyError, and TypeError.\n",
        "\n",
        "**Task 1 - Understanding Python Exceptions**\n",
        "\n",
        "In this task, the objective is to handle two common exceptions—ZeroDivisionError and ValueError—while attempting to divide 100 by a user-entered number."
      ],
      "metadata": {
        "id": "PTQGzLW65Y_9"
      }
    },
    {
      "cell_type": "code",
      "source": [
        "def handle_exceptions():\n",
        "    try:\n",
        "        num = float(input(\"Enter a number: \"))\n",
        "        result = 100 / num\n",
        "    except ZeroDivisionError:\n",
        "        print(\"Oops! You cannot divide by zero.\")\n",
        "    except ValueError:\n",
        "        print(\"Invalid input! Please enter a valid number.\")\n",
        "    else:\n",
        "        print(f\"100 divided by {num} is {result:.2f}\")\n",
        "\n",
        "handle_exceptions()"
      ],
      "metadata": {
        "colab": {
          "base_uri": "https://localhost:8080/"
        },
        "id": "fvh4_lZm5fSx",
        "outputId": "d3503a2b-4970-468a-e5b4-a9b84f47e470"
      },
      "execution_count": 1,
      "outputs": [
        {
          "output_type": "stream",
          "name": "stdout",
          "text": [
            "Enter a number: 6\n",
            "100 divided by 6.0 is 16.67\n"
          ]
        }
      ]
    },
    {
      "cell_type": "markdown",
      "source": [
        "* ZeroDivisionError: This exception is raised when attempting to divide by zero. The code catches this exception and informs the user of the issue.\n",
        "* ValueError: Raised when the input is not a valid number. The program catches this error and asks the user to enter a valid number.\n",
        "* Else block: If no errors occur, it prints the division result."
      ],
      "metadata": {
        "id": "WEo8NQ6k5qYF"
      }
    },
    {
      "cell_type": "markdown",
      "source": [
        "**Task 2 - Types of Exceptions**\n",
        "\n",
        "This task involves raising and handling three different exceptions: IndexError, KeyError, and TypeError. Each exception is handled within its respective try...except block."
      ],
      "metadata": {
        "id": "eDA3aNNN5vu9"
      }
    },
    {
      "cell_type": "code",
      "source": [
        "def raise_exceptions():\n",
        "    # Handling IndexError\n",
        "    try:\n",
        "        my_list = [1, 2, 3]\n",
        "        print(my_list[5])\n",
        "    except IndexError:\n",
        "        print(\"IndexError occurred! List index out of range.\")\n",
        "\n",
        "    # Handling KeyError\n",
        "    try:\n",
        "        my_dict = {\"name\": \"John\", \"age\": 30}\n",
        "        print(my_dict[\"address\"])\n",
        "    except KeyError:\n",
        "        print(\"KeyError occurred! Key not found in the dictionary.\")\n",
        "\n",
        "    # Handling TypeError\n",
        "    try:\n",
        "        result = \"Hello\" + 5\n",
        "    except TypeError:\n",
        "        print(\"TypeError occurred! Unsupported operand types.\")\n",
        "\n",
        "raise_exceptions()"
      ],
      "metadata": {
        "colab": {
          "base_uri": "https://localhost:8080/"
        },
        "id": "E7h0YRzz5l44",
        "outputId": "20ac5508-fd4f-417a-899d-ece648bbcd05"
      },
      "execution_count": 2,
      "outputs": [
        {
          "output_type": "stream",
          "name": "stdout",
          "text": [
            "IndexError occurred! List index out of range.\n",
            "KeyError occurred! Key not found in the dictionary.\n",
            "TypeError occurred! Unsupported operand types.\n"
          ]
        }
      ]
    },
    {
      "cell_type": "markdown",
      "source": [
        "* IndexError: The code tries to access an index that is out of the range of the list. The exception is caught, and the user is notified about the invalid index.\n",
        "* KeyError: The code tries to access a dictionary key that does not exist. The exception is raised and handled, displaying a message about the missing key.\n",
        "* TypeError: The code attempts to add a string and an integer, which is an unsupported operation, raising a TypeError."
      ],
      "metadata": {
        "id": "GrERlR1t53O0"
      }
    },
    {
      "cell_type": "markdown",
      "source": [
        "**Task 3 - Using try...except...else...finally**\n",
        "\n",
        "This task asks for the implementation of the try...except...else...finally construct to divide two numbers. The finally block will print a message regardless of whether an exception occurred or not."
      ],
      "metadata": {
        "id": "oEnMbJIw58o-"
      }
    },
    {
      "cell_type": "code",
      "source": [
        "def divide_numbers():\n",
        "    try:\n",
        "        num1 = float(input(\"Enter the first number: \"))\n",
        "        num2 = float(input(\"Enter the second number: \"))\n",
        "        result = num1 / num2\n",
        "    except ZeroDivisionError:\n",
        "        print(\"Oops! You cannot divide by zero.\")\n",
        "    except ValueError:\n",
        "        print(\"Invalid input! Please enter a valid number.\")\n",
        "    else:\n",
        "        print(f\"The result is {result}.\")\n",
        "    finally:\n",
        "        print(\"This block always executes.\")\n",
        "\n",
        "divide_numbers()"
      ],
      "metadata": {
        "colab": {
          "base_uri": "https://localhost:8080/"
        },
        "id": "nIYVQfDJ5y2n",
        "outputId": "2a5b5bd2-1cef-4291-ce8e-f49ecb06ce35"
      },
      "execution_count": 3,
      "outputs": [
        {
          "output_type": "stream",
          "name": "stdout",
          "text": [
            "Enter the first number: 4\n",
            "Enter the second number: 6\n",
            "The result is 0.6666666666666666.\n",
            "This block always executes.\n"
          ]
        }
      ]
    },
    {
      "cell_type": "markdown",
      "source": [
        "* Try block: Attempts to divide num1 by num2. If successful, it prints the result.\n",
        "* Except block: Handles two exceptions:\n",
        "* ZeroDivisionError: Occurs when dividing by zero.\n",
        "* ValueError: Occurs when the input is not a valid number.\n",
        "* Else block: If no exceptions are raised, the division result is printed.\n",
        "* Finally block: This block always runs, regardless of whether an exception occurred or not. It is useful for cleanup actions or final statements."
      ],
      "metadata": {
        "id": "S9FJ5aL76Dgt"
      }
    },
    {
      "cell_type": "markdown",
      "source": [
        "## **Conclusion**\n",
        "In this assignment, we successfully implemented Python code to handle common errors such as ZeroDivisionError, ValueError, IndexError, KeyError, and TypeError. By using the try...except...else...finally construct, we were able to handle these exceptions gracefully, ensuring the program doesn't crash unexpectedly. We also demonstrated how each exception occurs and how it can be handled using the appropriate error messages. This assignment emphasized the importance of writing error-resilient code that can guide users towards providing correct input while maintaining a seamless experience."
      ],
      "metadata": {
        "id": "TX3hVs566JHF"
      }
    },
    {
      "cell_type": "code",
      "source": [],
      "metadata": {
        "id": "5xXoORr-6L37"
      },
      "execution_count": null,
      "outputs": []
    }
  ]
}