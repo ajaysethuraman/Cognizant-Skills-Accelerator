{
  "nbformat": 4,
  "nbformat_minor": 0,
  "metadata": {
    "colab": {
      "provenance": []
    },
    "kernelspec": {
      "name": "python3",
      "display_name": "Python 3"
    },
    "language_info": {
      "name": "python"
    }
  },
  "cells": [
    {
      "cell_type": "markdown",
      "source": [
        "# **Assignment: About Parameters of Functions**\n",
        "## By Ajay Sethuraman\n",
        "## **Introduction**\n",
        "Functions are essential in Python for writing reusable, efficient code. They allow us to organize our code into blocks that can be called as needed, making it easier to maintain and understand. This assignment covers various aspects of functions, including function parameters, default parameters, variable arguments, and recursion."
      ],
      "metadata": {
        "id": "RjTXu78S04SW"
      }
    },
    {
      "cell_type": "markdown",
      "source": [
        "**Task 1 - Writing Functions**\n",
        "\n",
        "Create a function greet_user. This function will accept a name as a parameter and print a personalized greeting."
      ],
      "metadata": {
        "id": "h01rUR3o1VLF"
      }
    },
    {
      "cell_type": "code",
      "source": [
        "def greet_user(name):\n",
        "    \"\"\"Greets the user by their name.\"\"\"\n",
        "    print(f\"Hello, {name}! Welcome aboard.\")\n",
        "\n",
        "# Create another function `add_numbers`\n",
        "def add_numbers(num1, num2):\n",
        "    \"\"\"Adds two numbers and returns the result.\"\"\"\n",
        "    return num1 + num2\n",
        "\n",
        "# Example usage\n",
        "name = \"Ajay\"\n",
        "greet_user(name)\n",
        "sum_result = add_numbers(5, 10)\n",
        "print(f\"The sum of 5 and 10 is {sum_result}.\")"
      ],
      "metadata": {
        "colab": {
          "base_uri": "https://localhost:8080/"
        },
        "id": "h-X1KZSr092C",
        "outputId": "c84d60e3-5bdb-4adf-b494-389ecdec48a4"
      },
      "execution_count": 2,
      "outputs": [
        {
          "output_type": "stream",
          "name": "stdout",
          "text": [
            "Hello, Ajay! Welcome aboard.\n",
            "The sum of 5 and 10 is 15.\n"
          ]
        }
      ]
    },
    {
      "cell_type": "markdown",
      "source": [
        "**Task 2 - Using Default Parameters**\n",
        "\n",
        "Create a function describe_pet. This function will accept two parameters: pet_name (string) and animal_type (string, with a default value of \"dog\")."
      ],
      "metadata": {
        "id": "jLLDpuJa1ay8"
      }
    },
    {
      "cell_type": "code",
      "source": [
        "def describe_pet(pet_name, animal_type=\"dog\"):\n",
        "    \"\"\"Describes the pet using the given parameters.\"\"\"\n",
        "    print(f\"I have a {animal_type} named {pet_name}.\")\n",
        "\n",
        "# Example usage\n",
        "describe_pet(\"Bucky\")  # Uses default animal_type\n",
        "describe_pet(\"Garfield\", \"cat\")  # Provides custom animal_type"
      ],
      "metadata": {
        "colab": {
          "base_uri": "https://localhost:8080/"
        },
        "id": "FsI740la1CeO",
        "outputId": "1409c6b8-d16e-49f2-a1a9-681a149792e7"
      },
      "execution_count": 4,
      "outputs": [
        {
          "output_type": "stream",
          "name": "stdout",
          "text": [
            "I have a dog named Bucky.\n",
            "I have a cat named Garfield.\n"
          ]
        }
      ]
    },
    {
      "cell_type": "markdown",
      "source": [
        "**Task 3 - Functions with Variable Arguments**\n",
        "\n",
        "Write a function make_sandwich. This function will accept a variable number of arguments for sandwich ingredients and print them as a list."
      ],
      "metadata": {
        "id": "Vs_elMOi1f2d"
      }
    },
    {
      "cell_type": "code",
      "source": [
        "def make_sandwich(*ingredients):\n",
        "    \"\"\"Makes a sandwich with the given ingredients.\"\"\"\n",
        "    print(\"Making a sandwich with the following ingredients:\")\n",
        "    for ingredient in ingredients:\n",
        "        print(f\"- {ingredient}\")\n",
        "\n",
        "# Example usage\n",
        "make_sandwich(\"Lettuce\", \"Tomato\", \"Cheese\")"
      ],
      "metadata": {
        "colab": {
          "base_uri": "https://localhost:8080/"
        },
        "id": "gKk9bvZX1I5X",
        "outputId": "9a5a7ed4-17fc-4a10-ec6f-758487cff5e8"
      },
      "execution_count": 5,
      "outputs": [
        {
          "output_type": "stream",
          "name": "stdout",
          "text": [
            "Making a sandwich with the following ingredients:\n",
            "- Lettuce\n",
            "- Tomato\n",
            "- Cheese\n"
          ]
        }
      ]
    },
    {
      "cell_type": "markdown",
      "source": [
        "**Task 4 - Understanding Recursion**\n",
        "\n",
        "Write a recursive function factorial:"
      ],
      "metadata": {
        "id": "ZOvZcdi01kce"
      }
    },
    {
      "cell_type": "code",
      "source": [
        "def factorial(n):\n",
        "    \"\"\"Calculates the factorial of a number using recursion.\"\"\"\n",
        "    if n == 0:  # Base case\n",
        "        return 1\n",
        "    else:\n",
        "        return n * factorial(n - 1)\n",
        "\n",
        "# Write another recursive function `fibonacci`\n",
        "def fibonacci(n):\n",
        "    \"\"\"Calculates the nth number in the Fibonacci sequence using recursion.\"\"\"\n",
        "    if n <= 1:\n",
        "        return n\n",
        "    else:\n",
        "        return fibonacci(n - 1) + fibonacci(n - 2)\n",
        "\n",
        "# Example usage\n",
        "factorial_result = factorial(5)\n",
        "fibonacci_result = fibonacci(6)\n",
        "print(f\"Factorial of 5 is {factorial_result}. The 6th Fibonacci number is {fibonacci_result}.\")"
      ],
      "metadata": {
        "colab": {
          "base_uri": "https://localhost:8080/"
        },
        "id": "ROmnOdW51pVc",
        "outputId": "1eeb9752-f8ac-489b-c1b7-24ce73d53fd0"
      },
      "execution_count": 7,
      "outputs": [
        {
          "output_type": "stream",
          "name": "stdout",
          "text": [
            "Factorial of 5 is 120. The 6th Fibonacci number is 8.\n"
          ]
        }
      ]
    },
    {
      "cell_type": "markdown",
      "source": [
        "## **Conclusion**\n",
        "This assignment explores the fundamentals of Python functions, including the use of parameters, default parameters, variable arguments, and recursion. These concepts are crucial for building efficient and reusable code. By mastering them, we can enhance our ability to solve problems effectively and elegantly in Python."
      ],
      "metadata": {
        "id": "vpUg7SWn1uSF"
      }
    },
    {
      "cell_type": "code",
      "source": [],
      "metadata": {
        "id": "sqnbFNEJ1wOg"
      },
      "execution_count": null,
      "outputs": []
    }
  ]
}